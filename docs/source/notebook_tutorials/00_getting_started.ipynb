{
 "cells": [
  {
   "cell_type": "markdown",
   "metadata": {},
   "source": [
    "# Getting Started\n",
    "\n",
    "**-- Warming up --**"
   ]
  },
  {
   "cell_type": "markdown",
   "metadata": {
    "collapsed": false,
    "jupyter": {
     "outputs_hidden": false
    }
   },
   "source": [
    "Let us import the library first:"
   ]
  },
  {
   "cell_type": "code",
   "metadata": {
    "collapsed": false,
    "jupyter": {
     "outputs_hidden": false
    },
    "ExecuteTime": {
     "end_time": "2025-06-10T11:57:09.795356Z",
     "start_time": "2025-06-10T11:57:05.486175Z"
    }
   },
   "source": [
    "import perturb_lib as plib"
   ],
   "outputs": [],
   "execution_count": 1
  },
  {
   "cell_type": "markdown",
   "metadata": {
    "collapsed": false,
    "jupyter": {
     "outputs_hidden": false
    }
   },
   "source": [
    "\n",
    "The first thing you will notice is that the random seed is set to some default value (13 here for arbitrary reasons). This is done for all the random number libraries that are a part of Perturb-lib. If for some reason you wish to experiment with a different random seed, for instance 17, you can do the following:"
   ]
  },
  {
   "cell_type": "code",
   "execution_count": 22,
   "metadata": {
    "collapsed": false,
    "jupyter": {
     "is_executing": true,
     "outputs_hidden": false
    }
   },
   "outputs": [
    {
     "name": "stderr",
     "output_type": "stream",
     "text": [
      "15:08:37 | INFO | Fixing random seeds of numpy, pytorch, random, and perturb-lib to 17.\n"
     ]
    }
   ],
   "source": [
    "plib.set_all_seeds(17)"
   ]
  },
  {
   "cell_type": "markdown",
   "metadata": {
    "collapsed": false,
    "jupyter": {
     "outputs_hidden": false
    }
   },
   "source": [
    "\n",
    "The temporary files such as raw and cached data, saved models, intermediate products of model training, etc. are stored in a cache folder. The cache folder can be accessed (read and modified) through the corresponding environmental variable. Modify the default path to cache as follows:"
   ]
  },
  {
   "cell_type": "code",
   "execution_count": 23,
   "metadata": {
    "collapsed": false,
    "jupyter": {
     "outputs_hidden": false
    }
   },
   "outputs": [
    {
     "data": {
      "text/plain": [
       "PosixPath('my_project/my_cache')"
      ]
     },
     "execution_count": 23,
     "metadata": {},
     "output_type": "execute_result"
    }
   ],
   "source": [
    "plib.set_path_to_cache(\"my_project/my_cache\")\n",
    "plib.get_path_to_cache()"
   ]
  },
  {
   "cell_type": "markdown",
   "metadata": {
    "collapsed": false,
    "jupyter": {
     "outputs_hidden": false
    }
   },
   "source": "Perturb-lib also offers access to internal logger. While it may not be necessary to use the same logger in your own scripts, it is useful to control the internal logging level (by default set to `logging.INFO`)."
  },
  {
   "cell_type": "code",
   "metadata": {
    "collapsed": false,
    "jupyter": {
     "outputs_hidden": false
    },
    "ExecuteTime": {
     "end_time": "2025-06-10T11:57:19.056282Z",
     "start_time": "2025-06-10T11:57:18.734689Z"
    }
   },
   "source": [
    "plib.logger"
   ],
   "outputs": [
    {
     "data": {
      "text/plain": [
       "<Logger perturb_lib (INFO)>"
      ]
     },
     "execution_count": 2,
     "metadata": {},
     "output_type": "execute_result"
    }
   ],
   "execution_count": 2
  },
  {
   "cell_type": "code",
   "metadata": {
    "collapsed": false,
    "jupyter": {
     "outputs_hidden": false
    },
    "ExecuteTime": {
     "end_time": "2025-06-10T11:57:33.636154Z",
     "start_time": "2025-06-10T11:57:33.611802Z"
    }
   },
   "source": [
    "plib.logger.debug(\"I am a logger in the debug mode.\")\n",
    "plib.logger.info(\"I am a logger in the info mode.\")"
   ],
   "outputs": [
    {
     "name": "stderr",
     "output_type": "stream",
     "text": [
      "13:57:33 | INFO | I am a logger in the info mode.\n"
     ]
    }
   ],
   "execution_count": 3
  },
  {
   "cell_type": "markdown",
   "metadata": {
    "collapsed": false,
    "jupyter": {
     "outputs_hidden": false
    }
   },
   "source": "In the `DEBUG` mode, the debugging log is now visible:"
  },
  {
   "cell_type": "code",
   "metadata": {
    "collapsed": false,
    "jupyter": {
     "outputs_hidden": false
    },
    "ExecuteTime": {
     "end_time": "2025-06-10T11:58:14.537276Z",
     "start_time": "2025-06-10T11:58:14.513216Z"
    }
   },
   "source": [
    "import logging\n",
    "\n",
    "plib.logger.setLevel(logging.DEBUG)\n",
    "plib.logger.debug(\"I am a logger in the debug mode.\")\n",
    "plib.logger.info(\"I am a logger in the info mode.\")"
   ],
   "outputs": [
    {
     "name": "stderr",
     "output_type": "stream",
     "text": [
      "13:58:14 | DEBUG | I am a logger in the debug mode.\n",
      "13:58:14 | INFO | I am a logger in the info mode.\n"
     ]
    }
   ],
   "execution_count": 4
  }
 ],
 "metadata": {
  "kernelspec": {
   "display_name": "Python 3 (ipykernel)",
   "language": "python",
   "name": "python3"
  },
  "language_info": {
   "codemirror_mode": {
    "name": "ipython",
    "version": 3
   },
   "file_extension": ".py",
   "mimetype": "text/x-python",
   "name": "python",
   "nbconvert_exporter": "python",
   "pygments_lexer": "ipython3",
   "version": "3.12.4"
  }
 },
 "nbformat": 4,
 "nbformat_minor": 4
}
